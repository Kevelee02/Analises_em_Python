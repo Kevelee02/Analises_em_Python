{
 "cells": [
  {
   "cell_type": "code",
   "execution_count": 4,
   "id": "a71dc1b9",
   "metadata": {},
   "outputs": [
    {
     "name": "stdout",
     "output_type": "stream",
     "text": [
      "Defaulting to user installation because normal site-packages is not writeable\n",
      "Requirement already satisfied: pandas in /home/kevelee/.local/lib/python3.10/site-packages (2.0.2)\n",
      "Requirement already satisfied: numpy>=1.21.0 in /home/kevelee/.local/lib/python3.10/site-packages (from pandas) (1.24.3)\n",
      "Requirement already satisfied: pytz>=2020.1 in /usr/lib/python3/dist-packages (from pandas) (2022.1)\n",
      "Requirement already satisfied: python-dateutil>=2.8.2 in /home/kevelee/.local/lib/python3.10/site-packages (from pandas) (2.8.2)\n",
      "Requirement already satisfied: tzdata>=2022.1 in /home/kevelee/.local/lib/python3.10/site-packages (from pandas) (2023.3)\n",
      "Requirement already satisfied: six>=1.5 in /usr/lib/python3/dist-packages (from python-dateutil>=2.8.2->pandas) (1.16.0)\n"
     ]
    }
   ],
   "source": [
    "!pip install pandas\n",
    "import pandas as pd"
   ]
  },
  {
   "cell_type": "code",
   "execution_count": 5,
   "id": "1512d467",
   "metadata": {},
   "outputs": [],
   "source": [
    "df = pd.read_csv(\"imdb_movies.csv\", index_col='names')"
   ]
  },
  {
   "cell_type": "code",
   "execution_count": 6,
   "id": "fb8f2932",
   "metadata": {},
   "outputs": [
    {
     "data": {
      "text/html": [
       "<div>\n",
       "<style scoped>\n",
       "    .dataframe tbody tr th:only-of-type {\n",
       "        vertical-align: middle;\n",
       "    }\n",
       "\n",
       "    .dataframe tbody tr th {\n",
       "        vertical-align: top;\n",
       "    }\n",
       "\n",
       "    .dataframe thead th {\n",
       "        text-align: right;\n",
       "    }\n",
       "</style>\n",
       "<table border=\"1\" class=\"dataframe\">\n",
       "  <thead>\n",
       "    <tr style=\"text-align: right;\">\n",
       "      <th></th>\n",
       "      <th>date_x</th>\n",
       "      <th>score</th>\n",
       "      <th>genre</th>\n",
       "      <th>overview</th>\n",
       "      <th>crew</th>\n",
       "      <th>orig_title</th>\n",
       "      <th>status</th>\n",
       "      <th>orig_lang</th>\n",
       "      <th>budget_x</th>\n",
       "      <th>revenue</th>\n",
       "      <th>country</th>\n",
       "    </tr>\n",
       "    <tr>\n",
       "      <th>names</th>\n",
       "      <th></th>\n",
       "      <th></th>\n",
       "      <th></th>\n",
       "      <th></th>\n",
       "      <th></th>\n",
       "      <th></th>\n",
       "      <th></th>\n",
       "      <th></th>\n",
       "      <th></th>\n",
       "      <th></th>\n",
       "      <th></th>\n",
       "    </tr>\n",
       "  </thead>\n",
       "  <tbody>\n",
       "    <tr>\n",
       "      <th>Creed III</th>\n",
       "      <td>03/02/2023</td>\n",
       "      <td>73.0</td>\n",
       "      <td>Drama, Action</td>\n",
       "      <td>After dominating the boxing world, Adonis Cree...</td>\n",
       "      <td>Michael B. Jordan, Adonis Creed, Tessa Thompso...</td>\n",
       "      <td>Creed III</td>\n",
       "      <td>Released</td>\n",
       "      <td>English</td>\n",
       "      <td>75000000.0</td>\n",
       "      <td>2.716167e+08</td>\n",
       "      <td>AU</td>\n",
       "    </tr>\n",
       "    <tr>\n",
       "      <th>Avatar: The Way of Water</th>\n",
       "      <td>12/15/2022</td>\n",
       "      <td>78.0</td>\n",
       "      <td>Science Fiction, Adventure, Action</td>\n",
       "      <td>Set more than a decade after the events of the...</td>\n",
       "      <td>Sam Worthington, Jake Sully, Zoe Saldaña, Neyt...</td>\n",
       "      <td>Avatar: The Way of Water</td>\n",
       "      <td>Released</td>\n",
       "      <td>English</td>\n",
       "      <td>460000000.0</td>\n",
       "      <td>2.316795e+09</td>\n",
       "      <td>AU</td>\n",
       "    </tr>\n",
       "    <tr>\n",
       "      <th>The Super Mario Bros. Movie</th>\n",
       "      <td>04/05/2023</td>\n",
       "      <td>76.0</td>\n",
       "      <td>Animation, Adventure, Family, Fantasy, Comedy</td>\n",
       "      <td>While working underground to fix a water main,...</td>\n",
       "      <td>Chris Pratt, Mario (voice), Anya Taylor-Joy, P...</td>\n",
       "      <td>The Super Mario Bros. Movie</td>\n",
       "      <td>Released</td>\n",
       "      <td>English</td>\n",
       "      <td>100000000.0</td>\n",
       "      <td>7.244590e+08</td>\n",
       "      <td>AU</td>\n",
       "    </tr>\n",
       "    <tr>\n",
       "      <th>Mummies</th>\n",
       "      <td>01/05/2023</td>\n",
       "      <td>70.0</td>\n",
       "      <td>Animation, Comedy, Family, Adventure, Fantasy</td>\n",
       "      <td>Through a series of unfortunate events, three ...</td>\n",
       "      <td>Óscar Barberán, Thut (voice), Ana Esther Albor...</td>\n",
       "      <td>Momias</td>\n",
       "      <td>Released</td>\n",
       "      <td>Spanish, Castilian</td>\n",
       "      <td>12300000.0</td>\n",
       "      <td>3.420000e+07</td>\n",
       "      <td>AU</td>\n",
       "    </tr>\n",
       "    <tr>\n",
       "      <th>Supercell</th>\n",
       "      <td>03/17/2023</td>\n",
       "      <td>61.0</td>\n",
       "      <td>Action</td>\n",
       "      <td>Good-hearted teenager William always lived in ...</td>\n",
       "      <td>Skeet Ulrich, Roy Cameron, Anne Heche, Dr Quin...</td>\n",
       "      <td>Supercell</td>\n",
       "      <td>Released</td>\n",
       "      <td>English</td>\n",
       "      <td>77000000.0</td>\n",
       "      <td>3.409420e+08</td>\n",
       "      <td>US</td>\n",
       "    </tr>\n",
       "  </tbody>\n",
       "</table>\n",
       "</div>"
      ],
      "text/plain": [
       "                                  date_x  score  \\\n",
       "names                                             \n",
       "Creed III                    03/02/2023    73.0   \n",
       "Avatar: The Way of Water     12/15/2022    78.0   \n",
       "The Super Mario Bros. Movie  04/05/2023    76.0   \n",
       "Mummies                      01/05/2023    70.0   \n",
       "Supercell                    03/17/2023    61.0   \n",
       "\n",
       "                                                                     genre  \\\n",
       "names                                                                        \n",
       "Creed III                                                    Drama, Action   \n",
       "Avatar: The Way of Water                Science Fiction, Adventure, Action   \n",
       "The Super Mario Bros. Movie  Animation, Adventure, Family, Fantasy, Comedy   \n",
       "Mummies                      Animation, Comedy, Family, Adventure, Fantasy   \n",
       "Supercell                                                           Action   \n",
       "\n",
       "                                                                      overview  \\\n",
       "names                                                                            \n",
       "Creed III                    After dominating the boxing world, Adonis Cree...   \n",
       "Avatar: The Way of Water     Set more than a decade after the events of the...   \n",
       "The Super Mario Bros. Movie  While working underground to fix a water main,...   \n",
       "Mummies                      Through a series of unfortunate events, three ...   \n",
       "Supercell                    Good-hearted teenager William always lived in ...   \n",
       "\n",
       "                                                                          crew  \\\n",
       "names                                                                            \n",
       "Creed III                    Michael B. Jordan, Adonis Creed, Tessa Thompso...   \n",
       "Avatar: The Way of Water     Sam Worthington, Jake Sully, Zoe Saldaña, Neyt...   \n",
       "The Super Mario Bros. Movie  Chris Pratt, Mario (voice), Anya Taylor-Joy, P...   \n",
       "Mummies                      Óscar Barberán, Thut (voice), Ana Esther Albor...   \n",
       "Supercell                    Skeet Ulrich, Roy Cameron, Anne Heche, Dr Quin...   \n",
       "\n",
       "                                              orig_title     status  \\\n",
       "names                                                                 \n",
       "Creed III                                      Creed III   Released   \n",
       "Avatar: The Way of Water        Avatar: The Way of Water   Released   \n",
       "The Super Mario Bros. Movie  The Super Mario Bros. Movie   Released   \n",
       "Mummies                                           Momias   Released   \n",
       "Supercell                                      Supercell   Released   \n",
       "\n",
       "                                       orig_lang     budget_x       revenue  \\\n",
       "names                                                                         \n",
       "Creed III                                English   75000000.0  2.716167e+08   \n",
       "Avatar: The Way of Water                 English  460000000.0  2.316795e+09   \n",
       "The Super Mario Bros. Movie              English  100000000.0  7.244590e+08   \n",
       "Mummies                       Spanish, Castilian   12300000.0  3.420000e+07   \n",
       "Supercell                                English   77000000.0  3.409420e+08   \n",
       "\n",
       "                            country  \n",
       "names                                \n",
       "Creed III                        AU  \n",
       "Avatar: The Way of Water         AU  \n",
       "The Super Mario Bros. Movie      AU  \n",
       "Mummies                          AU  \n",
       "Supercell                        US  "
      ]
     },
     "execution_count": 6,
     "metadata": {},
     "output_type": "execute_result"
    }
   ],
   "source": [
    "df.head()"
   ]
  },
  {
   "cell_type": "code",
   "execution_count": 7,
   "id": "6df8dd33",
   "metadata": {},
   "outputs": [
    {
     "name": "stdout",
     "output_type": "stream",
     "text": [
      "<class 'pandas.core.frame.DataFrame'>\n",
      "Index: 10178 entries, Creed III to The Swan Princess: A Royal Wedding\n",
      "Data columns (total 11 columns):\n",
      " #   Column      Non-Null Count  Dtype  \n",
      "---  ------      --------------  -----  \n",
      " 0   date_x      10178 non-null  object \n",
      " 1   score       10178 non-null  float64\n",
      " 2   genre       10093 non-null  object \n",
      " 3   overview    10178 non-null  object \n",
      " 4   crew        10122 non-null  object \n",
      " 5   orig_title  10178 non-null  object \n",
      " 6   status      10178 non-null  object \n",
      " 7   orig_lang   10178 non-null  object \n",
      " 8   budget_x    10178 non-null  float64\n",
      " 9   revenue     10178 non-null  float64\n",
      " 10  country     10178 non-null  object \n",
      "dtypes: float64(3), object(8)\n",
      "memory usage: 954.2+ KB\n"
     ]
    }
   ],
   "source": [
    "#Busca informaçoes sobre o dataset\n",
    "df.info();"
   ]
  },
  {
   "cell_type": "code",
   "execution_count": 8,
   "id": "7633d1e1",
   "metadata": {},
   "outputs": [
    {
     "data": {
      "text/plain": [
       "(10178, 11)"
      ]
     },
     "execution_count": 8,
     "metadata": {},
     "output_type": "execute_result"
    }
   ],
   "source": [
    "df.shape #Para sabermos o fornamto do nossa dataframe"
   ]
  },
  {
   "cell_type": "markdown",
   "id": "bba36d55",
   "metadata": {},
   "source": [
    "É sempre importante saber se o nosso dataset tem duplicatas, já que alguns caso interfere na analíse, para isso vamos criar um copia e verificar.\n"
   ]
  },
  {
   "cell_type": "code",
   "execution_count": 9,
   "id": "5a550c29",
   "metadata": {},
   "outputs": [],
   "source": [
    "df_copia = df.copy()"
   ]
  },
  {
   "cell_type": "code",
   "execution_count": 10,
   "id": "1decc148",
   "metadata": {},
   "outputs": [],
   "source": [
    "df_copia = df.drop_duplicates()"
   ]
  },
  {
   "cell_type": "code",
   "execution_count": 11,
   "id": "18696cb3",
   "metadata": {},
   "outputs": [
    {
     "data": {
      "text/plain": [
       "(10178, 11)"
      ]
     },
     "execution_count": 11,
     "metadata": {},
     "output_type": "execute_result"
    }
   ],
   "source": [
    "df.shape"
   ]
  },
  {
   "cell_type": "markdown",
   "id": "6b729d45",
   "metadata": {},
   "source": [
    "Viu? Sem valores repetidos mas é sempre importante verificar"
   ]
  },
  {
   "cell_type": "code",
   "execution_count": 12,
   "id": "d122481c",
   "metadata": {},
   "outputs": [
    {
     "data": {
      "text/plain": [
       "Index(['date_x', 'score', 'genre', 'overview', 'crew', 'orig_title', 'status',\n",
       "       'orig_lang', 'budget_x', 'revenue', 'country'],\n",
       "      dtype='object')"
      ]
     },
     "execution_count": 12,
     "metadata": {},
     "output_type": "execute_result"
    }
   ],
   "source": [
    "#Para sabermos o nome das colunas do nosso dataset basta aplicar, obs: Apesar de ter 11 colunas so mostra 10,\n",
    "#já que usei a coluna Names como index\n",
    "df.columns"
   ]
  },
  {
   "cell_type": "markdown",
   "id": "55f6a608",
   "metadata": {},
   "source": [
    "## Agora é hora de analisar valores e colunas vazias"
   ]
  },
  {
   "cell_type": "code",
   "execution_count": 13,
   "id": "f5e84b7c",
   "metadata": {},
   "outputs": [
    {
     "data": {
      "text/html": [
       "<div>\n",
       "<style scoped>\n",
       "    .dataframe tbody tr th:only-of-type {\n",
       "        vertical-align: middle;\n",
       "    }\n",
       "\n",
       "    .dataframe tbody tr th {\n",
       "        vertical-align: top;\n",
       "    }\n",
       "\n",
       "    .dataframe thead th {\n",
       "        text-align: right;\n",
       "    }\n",
       "</style>\n",
       "<table border=\"1\" class=\"dataframe\">\n",
       "  <thead>\n",
       "    <tr style=\"text-align: right;\">\n",
       "      <th></th>\n",
       "      <th>date_x</th>\n",
       "      <th>score</th>\n",
       "      <th>genre</th>\n",
       "      <th>overview</th>\n",
       "      <th>crew</th>\n",
       "      <th>orig_title</th>\n",
       "      <th>status</th>\n",
       "      <th>orig_lang</th>\n",
       "      <th>budget_x</th>\n",
       "      <th>revenue</th>\n",
       "      <th>country</th>\n",
       "    </tr>\n",
       "    <tr>\n",
       "      <th>names</th>\n",
       "      <th></th>\n",
       "      <th></th>\n",
       "      <th></th>\n",
       "      <th></th>\n",
       "      <th></th>\n",
       "      <th></th>\n",
       "      <th></th>\n",
       "      <th></th>\n",
       "      <th></th>\n",
       "      <th></th>\n",
       "      <th></th>\n",
       "    </tr>\n",
       "  </thead>\n",
       "  <tbody>\n",
       "    <tr>\n",
       "      <th>Creed III</th>\n",
       "      <td>False</td>\n",
       "      <td>False</td>\n",
       "      <td>False</td>\n",
       "      <td>False</td>\n",
       "      <td>False</td>\n",
       "      <td>False</td>\n",
       "      <td>False</td>\n",
       "      <td>False</td>\n",
       "      <td>False</td>\n",
       "      <td>False</td>\n",
       "      <td>False</td>\n",
       "    </tr>\n",
       "    <tr>\n",
       "      <th>Avatar: The Way of Water</th>\n",
       "      <td>False</td>\n",
       "      <td>False</td>\n",
       "      <td>False</td>\n",
       "      <td>False</td>\n",
       "      <td>False</td>\n",
       "      <td>False</td>\n",
       "      <td>False</td>\n",
       "      <td>False</td>\n",
       "      <td>False</td>\n",
       "      <td>False</td>\n",
       "      <td>False</td>\n",
       "    </tr>\n",
       "    <tr>\n",
       "      <th>The Super Mario Bros. Movie</th>\n",
       "      <td>False</td>\n",
       "      <td>False</td>\n",
       "      <td>False</td>\n",
       "      <td>False</td>\n",
       "      <td>False</td>\n",
       "      <td>False</td>\n",
       "      <td>False</td>\n",
       "      <td>False</td>\n",
       "      <td>False</td>\n",
       "      <td>False</td>\n",
       "      <td>False</td>\n",
       "    </tr>\n",
       "    <tr>\n",
       "      <th>Mummies</th>\n",
       "      <td>False</td>\n",
       "      <td>False</td>\n",
       "      <td>False</td>\n",
       "      <td>False</td>\n",
       "      <td>False</td>\n",
       "      <td>False</td>\n",
       "      <td>False</td>\n",
       "      <td>False</td>\n",
       "      <td>False</td>\n",
       "      <td>False</td>\n",
       "      <td>False</td>\n",
       "    </tr>\n",
       "    <tr>\n",
       "      <th>Supercell</th>\n",
       "      <td>False</td>\n",
       "      <td>False</td>\n",
       "      <td>False</td>\n",
       "      <td>False</td>\n",
       "      <td>False</td>\n",
       "      <td>False</td>\n",
       "      <td>False</td>\n",
       "      <td>False</td>\n",
       "      <td>False</td>\n",
       "      <td>False</td>\n",
       "      <td>False</td>\n",
       "    </tr>\n",
       "    <tr>\n",
       "      <th>...</th>\n",
       "      <td>...</td>\n",
       "      <td>...</td>\n",
       "      <td>...</td>\n",
       "      <td>...</td>\n",
       "      <td>...</td>\n",
       "      <td>...</td>\n",
       "      <td>...</td>\n",
       "      <td>...</td>\n",
       "      <td>...</td>\n",
       "      <td>...</td>\n",
       "      <td>...</td>\n",
       "    </tr>\n",
       "    <tr>\n",
       "      <th>20th Century Women</th>\n",
       "      <td>False</td>\n",
       "      <td>False</td>\n",
       "      <td>False</td>\n",
       "      <td>False</td>\n",
       "      <td>False</td>\n",
       "      <td>False</td>\n",
       "      <td>False</td>\n",
       "      <td>False</td>\n",
       "      <td>False</td>\n",
       "      <td>False</td>\n",
       "      <td>False</td>\n",
       "    </tr>\n",
       "    <tr>\n",
       "      <th>Delta Force 2: The Colombian Connection</th>\n",
       "      <td>False</td>\n",
       "      <td>False</td>\n",
       "      <td>False</td>\n",
       "      <td>False</td>\n",
       "      <td>False</td>\n",
       "      <td>False</td>\n",
       "      <td>False</td>\n",
       "      <td>False</td>\n",
       "      <td>False</td>\n",
       "      <td>False</td>\n",
       "      <td>False</td>\n",
       "    </tr>\n",
       "    <tr>\n",
       "      <th>The Russia House</th>\n",
       "      <td>False</td>\n",
       "      <td>False</td>\n",
       "      <td>False</td>\n",
       "      <td>False</td>\n",
       "      <td>False</td>\n",
       "      <td>False</td>\n",
       "      <td>False</td>\n",
       "      <td>False</td>\n",
       "      <td>False</td>\n",
       "      <td>False</td>\n",
       "      <td>False</td>\n",
       "    </tr>\n",
       "    <tr>\n",
       "      <th>Darkman II: The Return of Durant</th>\n",
       "      <td>False</td>\n",
       "      <td>False</td>\n",
       "      <td>False</td>\n",
       "      <td>False</td>\n",
       "      <td>False</td>\n",
       "      <td>False</td>\n",
       "      <td>False</td>\n",
       "      <td>False</td>\n",
       "      <td>False</td>\n",
       "      <td>False</td>\n",
       "      <td>False</td>\n",
       "    </tr>\n",
       "    <tr>\n",
       "      <th>The Swan Princess: A Royal Wedding</th>\n",
       "      <td>False</td>\n",
       "      <td>False</td>\n",
       "      <td>False</td>\n",
       "      <td>False</td>\n",
       "      <td>False</td>\n",
       "      <td>False</td>\n",
       "      <td>False</td>\n",
       "      <td>False</td>\n",
       "      <td>False</td>\n",
       "      <td>False</td>\n",
       "      <td>False</td>\n",
       "    </tr>\n",
       "  </tbody>\n",
       "</table>\n",
       "<p>10178 rows × 11 columns</p>\n",
       "</div>"
      ],
      "text/plain": [
       "                                         date_x  score  genre  overview  \\\n",
       "names                                                                     \n",
       "Creed III                                 False  False  False     False   \n",
       "Avatar: The Way of Water                  False  False  False     False   \n",
       "The Super Mario Bros. Movie               False  False  False     False   \n",
       "Mummies                                   False  False  False     False   \n",
       "Supercell                                 False  False  False     False   \n",
       "...                                         ...    ...    ...       ...   \n",
       "20th Century Women                        False  False  False     False   \n",
       "Delta Force 2: The Colombian Connection   False  False  False     False   \n",
       "The Russia House                          False  False  False     False   \n",
       "Darkman II: The Return of Durant          False  False  False     False   \n",
       "The Swan Princess: A Royal Wedding        False  False  False     False   \n",
       "\n",
       "                                          crew  orig_title  status  orig_lang  \\\n",
       "names                                                                           \n",
       "Creed III                                False       False   False      False   \n",
       "Avatar: The Way of Water                 False       False   False      False   \n",
       "The Super Mario Bros. Movie              False       False   False      False   \n",
       "Mummies                                  False       False   False      False   \n",
       "Supercell                                False       False   False      False   \n",
       "...                                        ...         ...     ...        ...   \n",
       "20th Century Women                       False       False   False      False   \n",
       "Delta Force 2: The Colombian Connection  False       False   False      False   \n",
       "The Russia House                         False       False   False      False   \n",
       "Darkman II: The Return of Durant         False       False   False      False   \n",
       "The Swan Princess: A Royal Wedding       False       False   False      False   \n",
       "\n",
       "                                         budget_x  revenue  country  \n",
       "names                                                                \n",
       "Creed III                                   False    False    False  \n",
       "Avatar: The Way of Water                    False    False    False  \n",
       "The Super Mario Bros. Movie                 False    False    False  \n",
       "Mummies                                     False    False    False  \n",
       "Supercell                                   False    False    False  \n",
       "...                                           ...      ...      ...  \n",
       "20th Century Women                          False    False    False  \n",
       "Delta Force 2: The Colombian Connection     False    False    False  \n",
       "The Russia House                            False    False    False  \n",
       "Darkman II: The Return of Durant            False    False    False  \n",
       "The Swan Princess: A Royal Wedding          False    False    False  \n",
       "\n",
       "[10178 rows x 11 columns]"
      ]
     },
     "execution_count": 13,
     "metadata": {},
     "output_type": "execute_result"
    }
   ],
   "source": [
    "df.isnull()"
   ]
  },
  {
   "cell_type": "code",
   "execution_count": 14,
   "id": "19fdbd84",
   "metadata": {},
   "outputs": [
    {
     "data": {
      "text/plain": [
       "date_x         0\n",
       "score          0\n",
       "genre         85\n",
       "overview       0\n",
       "crew          56\n",
       "orig_title     0\n",
       "status         0\n",
       "orig_lang      0\n",
       "budget_x       0\n",
       "revenue        0\n",
       "country        0\n",
       "dtype: int64"
      ]
     },
     "execution_count": 14,
     "metadata": {},
     "output_type": "execute_result"
    }
   ],
   "source": [
    "df.isnull().sum()\n",
    "#Como os isnull define valores verdadeiros e falso, onde verdadeiro = 1 e falso = 0, fica facil saber quantos valores vazios temos"
   ]
  },
  {
   "cell_type": "code",
   "execution_count": 15,
   "id": "010ceee0",
   "metadata": {},
   "outputs": [],
   "source": [
    "#Em casos de valores existem algumas opçoes: Você pode remover o valores vazios ou substituir, nesse caso vamos subistir genero por desconhecido\n",
    "#e depois vejamos o que fazer o crew"
   ]
  },
  {
   "cell_type": "code",
   "execution_count": 16,
   "id": "c51790c2",
   "metadata": {},
   "outputs": [],
   "source": [
    "df_2 = df.genre.fillna(\"Unknow\")"
   ]
  },
  {
   "cell_type": "code",
   "execution_count": 17,
   "id": "f4951b5a",
   "metadata": {},
   "outputs": [],
   "source": [
    "#Voltando para o nosso dataset original vamos ver como fica a divisão por genero"
   ]
  },
  {
   "cell_type": "code",
   "execution_count": 18,
   "id": "0601aa25",
   "metadata": {},
   "outputs": [
    {
     "data": {
      "text/plain": [
       "genre\n",
       "Drama                                                   556\n",
       "Comedy                                                  373\n",
       "Drama, Romance                                          268\n",
       "Horror                                                  260\n",
       "Horror, Thriller                                        202\n",
       "                                                       ... \n",
       "Action, Animation, Crime, Drama                           1\n",
       "Adventure, Animation, Family, Action                      1\n",
       "Drama, Animation, Family, Comedy, Fantasy                 1\n",
       "Science Fiction, War                                      1\n",
       "Action, Adventure, Science Fiction, Thriller, Horror      1\n",
       "Name: count, Length: 2303, dtype: int64"
      ]
     },
     "execution_count": 18,
     "metadata": {},
     "output_type": "execute_result"
    }
   ],
   "source": [
    "df.genre.value_counts()"
   ]
  },
  {
   "cell_type": "code",
   "execution_count": 19,
   "id": "28cb520e",
   "metadata": {},
   "outputs": [
    {
     "name": "stdout",
     "output_type": "stream",
     "text": [
      "<class 'pandas.core.frame.DataFrame'>\n",
      "Index: 10178 entries, Creed III to The Swan Princess: A Royal Wedding\n",
      "Data columns (total 11 columns):\n",
      " #   Column      Non-Null Count  Dtype  \n",
      "---  ------      --------------  -----  \n",
      " 0   date_x      10178 non-null  object \n",
      " 1   score       10178 non-null  float64\n",
      " 2   genre       10093 non-null  object \n",
      " 3   overview    10178 non-null  object \n",
      " 4   crew        10122 non-null  object \n",
      " 5   orig_title  10178 non-null  object \n",
      " 6   status      10178 non-null  object \n",
      " 7   orig_lang   10178 non-null  object \n",
      " 8   budget_x    10178 non-null  float64\n",
      " 9   revenue     10178 non-null  float64\n",
      " 10  country     10178 non-null  object \n",
      "dtypes: float64(3), object(8)\n",
      "memory usage: 954.2+ KB\n"
     ]
    }
   ],
   "source": [
    "#Agora vamos ver a correlaçao, e depois plotar um gráfico de linear regression\n",
    "df.info()"
   ]
  },
  {
   "cell_type": "code",
   "execution_count": 31,
   "id": "f483178e",
   "metadata": {},
   "outputs": [
    {
     "data": {
      "text/plain": [
       "names\n",
       "Creed III                                  2.716167e-43\n",
       "Avatar: The Way of Water                   2.316795e-42\n",
       "The Super Mario Bros. Movie                7.244590e-43\n",
       "Mummies                                    3.420000e-44\n",
       "Supercell                                  3.409420e-43\n",
       "                                               ...     \n",
       "20th Century Women                         9.353729e-45\n",
       "Delta Force 2: The Colombian Connection    6.698361e-45\n",
       "The Russia House                           2.299799e-44\n",
       "Darkman II: The Return of Durant           4.756613e-43\n",
       "The Swan Princess: A Royal Wedding         5.394018e-43\n",
       "Name: revenue, Length: 10178, dtype: float64"
      ]
     },
     "execution_count": 31,
     "metadata": {},
     "output_type": "execute_result"
    }
   ],
   "source": [
    "#Convertando os valores de bilhoes em numeros mais compressensiveis\n",
    "df['revenue'] = df['revenue']/1e6\n",
    "df['revenue']"
   ]
  },
  {
   "cell_type": "code",
   "execution_count": 21,
   "id": "b22e3013",
   "metadata": {},
   "outputs": [
    {
     "data": {
      "text/html": [
       "<div>\n",
       "<style scoped>\n",
       "    .dataframe tbody tr th:only-of-type {\n",
       "        vertical-align: middle;\n",
       "    }\n",
       "\n",
       "    .dataframe tbody tr th {\n",
       "        vertical-align: top;\n",
       "    }\n",
       "\n",
       "    .dataframe thead th {\n",
       "        text-align: right;\n",
       "    }\n",
       "</style>\n",
       "<table border=\"1\" class=\"dataframe\">\n",
       "  <thead>\n",
       "    <tr style=\"text-align: right;\">\n",
       "      <th></th>\n",
       "      <th>score</th>\n",
       "      <th>budget_x</th>\n",
       "      <th>revenue</th>\n",
       "    </tr>\n",
       "  </thead>\n",
       "  <tbody>\n",
       "    <tr>\n",
       "      <th>score</th>\n",
       "      <td>1.000000</td>\n",
       "      <td>-0.23547</td>\n",
       "      <td>0.096533</td>\n",
       "    </tr>\n",
       "    <tr>\n",
       "      <th>budget_x</th>\n",
       "      <td>-0.235470</td>\n",
       "      <td>1.00000</td>\n",
       "      <td>0.673830</td>\n",
       "    </tr>\n",
       "    <tr>\n",
       "      <th>revenue</th>\n",
       "      <td>0.096533</td>\n",
       "      <td>0.67383</td>\n",
       "      <td>1.000000</td>\n",
       "    </tr>\n",
       "  </tbody>\n",
       "</table>\n",
       "</div>"
      ],
      "text/plain": [
       "             score  budget_x   revenue\n",
       "score     1.000000  -0.23547  0.096533\n",
       "budget_x -0.235470   1.00000  0.673830\n",
       "revenue   0.096533   0.67383  1.000000"
      ]
     },
     "execution_count": 21,
     "metadata": {},
     "output_type": "execute_result"
    }
   ],
   "source": [
    "#Como nem todos os valores sao do tipo numericos vamos ver a correlacao só com algumas variaveis\n",
    "cor= ['score','budget_x','revenue']\n",
    "df[cor].corr()"
   ]
  },
  {
   "cell_type": "code",
   "execution_count": 22,
   "id": "62c6b134",
   "metadata": {},
   "outputs": [],
   "source": [
    "#Com isso a melhor correlacao que temos é entre revenue e budget_x\n",
    "#A correlacao varia de -1 e 1, quanto mais proximos desses valores melhor a correlacao, podendo ser uma correlacao positiva ou negativa"
   ]
  },
  {
   "cell_type": "code",
   "execution_count": 23,
   "id": "51ce0975",
   "metadata": {},
   "outputs": [],
   "source": [
    "#Por ultimo um grafico de dispersao usando o modulo  matplotlib"
   ]
  },
  {
   "cell_type": "code",
   "execution_count": 24,
   "id": "ba37caa8",
   "metadata": {},
   "outputs": [],
   "source": [
    "import matplotlib.pyplot as plt\n",
    "import seaborn as sns"
   ]
  },
  {
   "cell_type": "code",
   "execution_count": 25,
   "id": "67bc7a7a",
   "metadata": {},
   "outputs": [
    {
     "data": {
      "image/png": "[encoded data removed]",
      "text/plain": [
       "<Figure size 700x700 with 3 Axes>"
      ]
     },
     "metadata": {},
     "output_type": "display_data"
    }
   ],
   "source": [
    "import seaborn as sns\n",
    "sns.set_theme(style=\"darkgrid\")\n",
    "\n",
    "g = sns.jointplot(x=\"budget_x\", y=\"revenue\", data=df,\n",
    "                  kind=\"reg\", truncate=False,\n",
    "                  xlim=(0, 60), ylim=(0, 12),\n",
    "                  color=\"m\", height=7)"
   ]
  },
  {
   "cell_type": "code",
   "execution_count": 36,
   "id": "28ae1dd6",
   "metadata": {},
   "outputs": [],
   "source": [
    "#Converter o valores Budget_x e Revenues, para números compreensiveis"
   ]
  },
  {
   "cell_type": "code",
   "execution_count": null,
   "id": "fc2d19a3",
   "metadata": {},
   "outputs": [],
   "source": []
  }
 ],
 "metadata": {
  "kernelspec": {
   "display_name": "Python 3 (ipykernel)",
   "language": "python",
   "name": "python3"
  },
  "language_info": {
   "codemirror_mode": {
    "name": "ipython",
    "version": 3
   },
   "file_extension": ".py",
   "mimetype": "text/x-python",
   "name": "python",
   "nbconvert_exporter": "python",
   "pygments_lexer": "ipython3",
   "version": "3.10.12"
  }
 },
 "nbformat": 4,
 "nbformat_minor": 5
}
